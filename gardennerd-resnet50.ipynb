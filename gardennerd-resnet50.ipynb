{
 "cells": [
  {
   "cell_type": "markdown",
   "metadata": {},
   "source": [
    "There are 100+ types of flowers which are to be classified. A labeled set is given for training. In this kernel I will make a Residual Network for the problem statement. Previously I used VGG16 and GoogLeNet network to train on the same dataset."
   ]
  },
  {
   "cell_type": "code",
   "execution_count": 1,
   "metadata": {
    "_cell_guid": "b1076dfc-b9ad-4769-8c92-a6c4dae69d19",
    "_uuid": "8f2839f25d086af736a60e9eeb907d3b93b6e0e5"
   },
   "outputs": [
    {
     "name": "stdout",
     "output_type": "stream",
     "text": [
      "/kaggle/input/train-data/train.csv\n",
      "/kaggle/input/train-data/train_X.npy\n"
     ]
    }
   ],
   "source": [
    "# This Python 3 environment comes with many helpful analytics libraries installed\n",
    "# It is defined by the kaggle/python docker image: https://github.com/kaggle/docker-python\n",
    "# For example, here's several helpful packages to load in \n",
    "\n",
    "import numpy as np # linear algebra\n",
    "import pandas as pd # data processing, CSV file I/O (e.g. pd.read_csv)\n",
    "\n",
    "# Input data files are available in the \"../input/\" directory.\n",
    "# For example, running this (by clicking run or pressing Shift+Enter) will list all files under the input directory\n",
    "\n",
    "import os\n",
    "for dirname, _, filenames in os.walk('/kaggle/input'):\n",
    "    for filename in filenames:\n",
    "        print(os.path.join(dirname, filename))\n",
    "\n",
    "# Any results you write to the current directory are saved as output."
   ]
  },
  {
   "cell_type": "code",
   "execution_count": 2,
   "metadata": {
    "_cell_guid": "79c7e3d0-c299-4dcb-8224-4455121ee9b0",
    "_uuid": "d629ff2d2480ee46fbb7e2d37f6b5fab8052498a"
   },
   "outputs": [
    {
     "name": "stderr",
     "output_type": "stream",
     "text": [
      "Using TensorFlow backend.\n"
     ]
    }
   ],
   "source": [
    "import pandas as pd\n",
    "import tensorflow as tf\n",
    "import keras.backend as K\n",
    "from keras.utils import to_categorical \n",
    "from keras.models import Model\n",
    "from keras.layers import Input, Conv2D, MaxPooling2D, AveragePooling2D, GlobalAveragePooling2D, ZeroPadding2D, BatchNormalization, Dropout, Dense, Flatten, Activation, Add, concatenate\n",
    "from keras.initializers import glorot_uniform, he_uniform, Zeros\n",
    "import matplotlib.pyplot as plt\n"
   ]
  },
  {
   "cell_type": "code",
   "execution_count": 3,
   "metadata": {},
   "outputs": [],
   "source": [
    "train_X = np.load(\"/kaggle/input/train-data/train_X.npy\")\n",
    "\n",
    "train_y = np.asarray(pd.read_csv(\"/kaggle/input/train-data/train.csv\").iloc[:,1])\n",
    "\n",
    "train_y = to_categorical(train_y)"
   ]
  },
  {
   "cell_type": "markdown",
   "metadata": {},
   "source": [
    "Residual Identity Block"
   ]
  },
  {
   "cell_type": "code",
   "execution_count": 4,
   "metadata": {},
   "outputs": [],
   "source": [
    "kernel_init = glorot_uniform()\n",
    "\n",
    "def identity_block(X, F1, F2, F3, k, stage, block):\n",
    "    conv_name_base = 'Conv'+str(stage)+str(block)\n",
    "    bn_name_base = 'BN'+str(stage)+str(block)\n",
    "    \n",
    "    X_shortcut = X # I will need this to add with convolutional o/p\n",
    "    \n",
    "    X = Conv2D(F1, kernel_size=(1,1), strides=(1,1), padding='valid', kernel_initializer=kernel_init, name=conv_name_base+'2a')(X)\n",
    "    X = BatchNormalization(axis=3, name=bn_name_base+'_a')(X)\n",
    "    X = Activation('relu')(X)\n",
    "    \n",
    "    X = Conv2D(F2, kernel_size=(k,k), strides=(1,1), padding='same', kernel_initializer=kernel_init, name=conv_name_base+'2b')(X)\n",
    "    X = BatchNormalization(axis=3, name=bn_name_base+'_b')(X)\n",
    "    X = Activation('relu')(X)\n",
    "    \n",
    "    X = Conv2D(F3, kernel_size=(1,1), strides=(1,1), padding='valid', kernel_initializer=kernel_init, name=conv_name_base+'2c')(X)\n",
    "    X = BatchNormalization(axis=3, name=bn_name_base+'_c')(X)\n",
    "    \n",
    "    X = Add()([X_shortcut, X])\n",
    "    X = Activation('relu')(X)\n",
    "    \n",
    "    return X"
   ]
  },
  {
   "cell_type": "markdown",
   "metadata": {},
   "source": [
    "Residual Convolutional Block"
   ]
  },
  {
   "cell_type": "code",
   "execution_count": 5,
   "metadata": {},
   "outputs": [],
   "source": [
    "def convolutional_block(X, F1, F2, F3, k, s, stage, block):\n",
    "    conv_name_base = 'Conv'+str(stage)+str(block)\n",
    "    bn_name_base = 'BN'+str(stage)+str(block)\n",
    "    \n",
    "    X_shortcut = X # I will need this to add with convolutional o/p\n",
    "    X_shortcut = Conv2D(F3, kernel_size=(1,1), strides=(s,s), padding='valid', kernel_initializer=kernel_init, name=conv_name_base+'1')(X_shortcut)\n",
    "    X_shortcut = BatchNormalization(axis=3, name=bn_name_base+'1')(X_shortcut)\n",
    "    \n",
    "    X = Conv2D(F1, kernel_size=(1,1), strides=(s,s), padding='valid', kernel_initializer=kernel_init, name=conv_name_base+'2a')(X)\n",
    "    X = BatchNormalization(axis=3, name=bn_name_base+'_a')(X)\n",
    "    X = Activation('relu')(X)\n",
    "    \n",
    "    X = Conv2D(F2, kernel_size=(k,k), strides=(1,1), padding='same', kernel_initializer=kernel_init, name=conv_name_base+'2b')(X)\n",
    "    X = BatchNormalization(axis=3, name=bn_name_base+'_b')(X)\n",
    "    X = Activation('relu')(X)\n",
    "    \n",
    "    X = Conv2D(F3, kernel_size=(1,1), strides=(1,1), padding='valid', kernel_initializer=kernel_init, name=conv_name_base+'2c')(X)\n",
    "    X = BatchNormalization(axis=3, name=bn_name_base+'_c')(X) \n",
    "    \n",
    "    \n",
    "    X = Add()([X_shortcut, X])\n",
    "    X = Activation('relu')(X)\n",
    "    \n",
    "    return X"
   ]
  },
  {
   "cell_type": "markdown",
   "metadata": {},
   "source": [
    "Resnet50 Network"
   ]
  },
  {
   "cell_type": "code",
   "execution_count": 6,
   "metadata": {},
   "outputs": [],
   "source": [
    "X_input = Input(shape=(100,100,3))\n",
    "\n",
    "    \n",
    "# Zero-Padding\n",
    "X = ZeroPadding2D((3, 3))(X_input)\n",
    "    \n",
    "# Stage 1\n",
    "X = Conv2D(64, (7, 7), strides = (2, 2), name = 'conv1', kernel_initializer = glorot_uniform(seed=0))(X)\n",
    "X = BatchNormalization(axis = 3, name = 'bn_conv1')(X)\n",
    "X = Activation('relu')(X)\n",
    "X = MaxPooling2D((3, 3), strides=(2, 2))(X)\n",
    "\n",
    "# Stage 2\n",
    "X = convolutional_block(X, k= 3, F1=64, F2=64, F3=256, stage = 2, block='a', s = 1)\n",
    "X = identity_block(X, k=3, F1=64, F2=64, F3=256, stage=2, block='b')\n",
    "X = identity_block(X, k=3, F1=64, F2=64, F3=256, stage=2, block='c')\n",
    "\n",
    "# Stage 3\n",
    "X = convolutional_block(X, k=3, F1=128, F2=128, F3=512, stage=3, block='a', s=2)\n",
    "X = identity_block(X, k=3, F1=128, F2=128, F3=512, stage=3, block='b')\n",
    "X = identity_block(X, k=3, F1=128, F2=128, F3=512, stage=3, block='c')\n",
    "X = identity_block(X, k=3, F1=128, F2=128, F3=512, stage=3, block='d')\n",
    "\n",
    "# Stage 4\n",
    "X = convolutional_block(X, k=3, F1=256, F2=256, F3=1024, stage=4, block='a', s=2)\n",
    "X = identity_block(X, k=3, F1=256, F2=256, F3=1024, stage=4, block='b')\n",
    "X = identity_block(X, k=3, F1=256, F2=256, F3=1024, stage=4, block='c')\n",
    "X = identity_block(X, k=3, F1=256, F2=256, F3=1024, stage=4, block='d')\n",
    "X = identity_block(X, k=3, F1=256, F2=256, F3=1024, stage=4, block='e')\n",
    "X = identity_block(X, k=3, F1=256, F2=256, F3=1024, stage=4, block='f')\n",
    "\n",
    "# Stage 5\n",
    "X = convolutional_block(X, k=3, F1=512, F2=512, F3=2048, stage=5, block='a', s=2)\n",
    "X = identity_block(X, k=3, F1=512, F2=512, F3=2048, stage=5, block='b')\n",
    "X = identity_block(X, k=3, F1=512, F2=512, F3=2048, stage=5, block='c')\n",
    "\n",
    "# AVGPOOL\n",
    "X = AveragePooling2D(pool_size=(2,2), padding='same')(X)\n",
    "\n",
    "# Output layer\n",
    "X = Flatten()(X)\n",
    "X = Dense(103, activation='softmax', name='fc' + str(103), kernel_initializer = glorot_uniform(seed=0))(X)\n",
    "    \n",
    "    \n",
    "    "
   ]
  },
  {
   "cell_type": "code",
   "execution_count": 7,
   "metadata": {},
   "outputs": [],
   "source": [
    "# Create model\n",
    "model = Model(inputs = X_input, outputs = X, name='ResNet50')\n",
    "model.compile(optimizer='adam', loss='categorical_crossentropy', metrics=['accuracy'])"
   ]
  },
  {
   "cell_type": "code",
   "execution_count": 8,
   "metadata": {},
   "outputs": [
    {
     "name": "stdout",
     "output_type": "stream",
     "text": [
      "Train on 14832 samples, validate on 3708 samples\n",
      "Epoch 1/100\n",
      "14832/14832 [==============================] - 70s 5ms/step - loss: 5.3854 - accuracy: 0.0657 - val_loss: 4.2890 - val_accuracy: 0.0386\n",
      "Epoch 2/100\n",
      "14832/14832 [==============================] - 37s 3ms/step - loss: 3.0812 - accuracy: 0.2685 - val_loss: 3.6046 - val_accuracy: 0.1456\n",
      "Epoch 3/100\n",
      "14832/14832 [==============================] - 37s 3ms/step - loss: 2.2481 - accuracy: 0.4291 - val_loss: 2.4107 - val_accuracy: 0.3530\n",
      "Epoch 4/100\n",
      "14832/14832 [==============================] - 37s 3ms/step - loss: 1.7391 - accuracy: 0.5468 - val_loss: 2.8286 - val_accuracy: 0.3778\n",
      "Epoch 5/100\n",
      "14832/14832 [==============================] - 37s 3ms/step - loss: 1.2095 - accuracy: 0.6713 - val_loss: 2.1128 - val_accuracy: 0.4175\n",
      "Epoch 6/100\n",
      "14832/14832 [==============================] - 37s 3ms/step - loss: 0.8480 - accuracy: 0.7783 - val_loss: 2.3396 - val_accuracy: 0.4291\n",
      "Epoch 7/100\n",
      "14832/14832 [==============================] - 37s 3ms/step - loss: 0.5549 - accuracy: 0.8437 - val_loss: 2.2086 - val_accuracy: 0.4881\n",
      "Epoch 8/100\n",
      "14832/14832 [==============================] - 37s 3ms/step - loss: 0.3819 - accuracy: 0.8948 - val_loss: 3.3030 - val_accuracy: 0.3522\n",
      "Epoch 9/100\n",
      "14832/14832 [==============================] - 37s 3ms/step - loss: 0.3071 - accuracy: 0.9181 - val_loss: 4.5827 - val_accuracy: 0.4631\n",
      "Epoch 10/100\n",
      "14832/14832 [==============================] - 37s 3ms/step - loss: 0.1894 - accuracy: 0.9506 - val_loss: 2.5258 - val_accuracy: 0.5108\n",
      "Epoch 11/100\n",
      "14832/14832 [==============================] - 37s 3ms/step - loss: 0.3220 - accuracy: 0.9105 - val_loss: 2.9732 - val_accuracy: 0.6090\n",
      "Epoch 12/100\n",
      "14832/14832 [==============================] - 37s 3ms/step - loss: 0.1610 - accuracy: 0.9517 - val_loss: 2.3623 - val_accuracy: 0.5475\n",
      "Epoch 13/100\n",
      "14832/14832 [==============================] - 37s 3ms/step - loss: 0.1335 - accuracy: 0.9607 - val_loss: 1.9731 - val_accuracy: 0.6041\n",
      "Epoch 14/100\n",
      "14832/14832 [==============================] - 37s 3ms/step - loss: 0.0872 - accuracy: 0.9751 - val_loss: 2.0683 - val_accuracy: 0.5717\n",
      "Epoch 15/100\n",
      "14832/14832 [==============================] - 37s 3ms/step - loss: 0.0908 - accuracy: 0.9739 - val_loss: 2.3970 - val_accuracy: 0.5378\n",
      "Epoch 16/100\n",
      "14832/14832 [==============================] - 37s 3ms/step - loss: 0.0927 - accuracy: 0.9709 - val_loss: 2.0651 - val_accuracy: 0.6041\n",
      "Epoch 17/100\n",
      "14832/14832 [==============================] - 37s 3ms/step - loss: 0.1273 - accuracy: 0.9624 - val_loss: 2.4525 - val_accuracy: 0.5477\n",
      "Epoch 18/100\n",
      "14832/14832 [==============================] - 37s 3ms/step - loss: 0.1156 - accuracy: 0.9660 - val_loss: 1.8512 - val_accuracy: 0.6661\n",
      "Epoch 19/100\n",
      "14832/14832 [==============================] - 37s 3ms/step - loss: 0.0752 - accuracy: 0.9773 - val_loss: 1.6496 - val_accuracy: 0.6597\n",
      "Epoch 20/100\n",
      "14832/14832 [==============================] - 37s 3ms/step - loss: 0.0732 - accuracy: 0.9784 - val_loss: 2.1964 - val_accuracy: 0.6036\n",
      "Epoch 21/100\n",
      "14832/14832 [==============================] - 37s 3ms/step - loss: 0.0877 - accuracy: 0.9718 - val_loss: 2.0835 - val_accuracy: 0.6141\n",
      "Epoch 22/100\n",
      "14832/14832 [==============================] - 37s 3ms/step - loss: 0.0750 - accuracy: 0.9762 - val_loss: 2.7647 - val_accuracy: 0.5245\n",
      "Epoch 23/100\n",
      "14832/14832 [==============================] - 37s 3ms/step - loss: 0.0677 - accuracy: 0.9784 - val_loss: 2.1884 - val_accuracy: 0.5928\n",
      "Epoch 24/100\n",
      "14832/14832 [==============================] - 37s 3ms/step - loss: 0.0960 - accuracy: 0.9706 - val_loss: 3.1843 - val_accuracy: 0.4927\n",
      "Epoch 25/100\n",
      "14832/14832 [==============================] - 37s 3ms/step - loss: 0.0866 - accuracy: 0.9737 - val_loss: 1.8334 - val_accuracy: 0.6386\n",
      "Epoch 26/100\n",
      "14832/14832 [==============================] - 37s 3ms/step - loss: 0.0912 - accuracy: 0.9722 - val_loss: 3.7890 - val_accuracy: 0.4107\n",
      "Epoch 27/100\n",
      "14832/14832 [==============================] - 37s 3ms/step - loss: 0.0594 - accuracy: 0.9822 - val_loss: 2.5356 - val_accuracy: 0.5895\n",
      "Epoch 28/100\n",
      "14832/14832 [==============================] - 37s 3ms/step - loss: 0.0723 - accuracy: 0.9779 - val_loss: 2.3025 - val_accuracy: 0.5782\n",
      "Epoch 29/100\n",
      "14832/14832 [==============================] - 37s 3ms/step - loss: 0.0732 - accuracy: 0.9775 - val_loss: 1.6664 - val_accuracy: 0.6653\n",
      "Epoch 30/100\n",
      "14832/14832 [==============================] - 37s 3ms/step - loss: 0.0397 - accuracy: 0.9884 - val_loss: 2.1946 - val_accuracy: 0.6014\n",
      "Epoch 31/100\n",
      "14832/14832 [==============================] - 37s 3ms/step - loss: 0.0375 - accuracy: 0.9884 - val_loss: 1.3376 - val_accuracy: 0.7303\n",
      "Epoch 32/100\n",
      "14832/14832 [==============================] - 37s 3ms/step - loss: 0.0244 - accuracy: 0.9930 - val_loss: 1.5954 - val_accuracy: 0.7020\n",
      "Epoch 33/100\n",
      "14832/14832 [==============================] - 37s 3ms/step - loss: 0.0275 - accuracy: 0.9922 - val_loss: 1.8165 - val_accuracy: 0.6624\n",
      "Epoch 34/100\n",
      "14832/14832 [==============================] - 37s 3ms/step - loss: 0.0613 - accuracy: 0.9804 - val_loss: 2.5168 - val_accuracy: 0.5623\n",
      "Epoch 35/100\n",
      "14832/14832 [==============================] - 37s 3ms/step - loss: 0.0897 - accuracy: 0.9732 - val_loss: 3.2997 - val_accuracy: 0.5661\n",
      "Epoch 36/100\n",
      "14832/14832 [==============================] - 37s 3ms/step - loss: 0.0821 - accuracy: 0.9734 - val_loss: 2.1639 - val_accuracy: 0.6084\n",
      "Epoch 37/100\n",
      "14832/14832 [==============================] - 37s 3ms/step - loss: 0.0973 - accuracy: 0.9706 - val_loss: 2.3552 - val_accuracy: 0.6036\n",
      "Epoch 38/100\n",
      "14832/14832 [==============================] - 37s 3ms/step - loss: 0.0732 - accuracy: 0.9771 - val_loss: 2.0344 - val_accuracy: 0.6227\n",
      "Epoch 39/100\n",
      "14832/14832 [==============================] - 37s 3ms/step - loss: 0.0486 - accuracy: 0.9835 - val_loss: 2.1033 - val_accuracy: 0.6241\n",
      "Epoch 40/100\n",
      "14832/14832 [==============================] - 37s 3ms/step - loss: 0.0546 - accuracy: 0.9821 - val_loss: 2.6428 - val_accuracy: 0.5734\n",
      "Epoch 41/100\n",
      "14832/14832 [==============================] - 37s 3ms/step - loss: 0.0748 - accuracy: 0.9772 - val_loss: 2.2134 - val_accuracy: 0.6073\n",
      "Epoch 42/100\n",
      "14832/14832 [==============================] - 37s 3ms/step - loss: 0.0497 - accuracy: 0.9850 - val_loss: 1.7436 - val_accuracy: 0.6707\n",
      "Epoch 43/100\n",
      "14832/14832 [==============================] - 37s 3ms/step - loss: 0.0454 - accuracy: 0.9856 - val_loss: 4.5647 - val_accuracy: 0.4137\n",
      "Epoch 44/100\n",
      "14832/14832 [==============================] - 37s 3ms/step - loss: 0.0480 - accuracy: 0.9835 - val_loss: 2.7249 - val_accuracy: 0.5531\n",
      "Epoch 45/100\n",
      "14832/14832 [==============================] - 37s 3ms/step - loss: 0.0382 - accuracy: 0.9887 - val_loss: 2.1249 - val_accuracy: 0.6478\n",
      "Epoch 46/100\n",
      "14832/14832 [==============================] - 37s 3ms/step - loss: 0.0289 - accuracy: 0.9908 - val_loss: 1.6869 - val_accuracy: 0.6872\n",
      "Epoch 47/100\n",
      "14832/14832 [==============================] - 37s 3ms/step - loss: 0.0132 - accuracy: 0.9959 - val_loss: 1.2989 - val_accuracy: 0.7554\n",
      "Epoch 48/100\n",
      "14832/14832 [==============================] - 37s 3ms/step - loss: 0.0070 - accuracy: 0.9980 - val_loss: 1.2074 - val_accuracy: 0.7648\n",
      "Epoch 49/100\n",
      "14832/14832 [==============================] - 37s 3ms/step - loss: 0.0015 - accuracy: 0.9997 - val_loss: 1.2088 - val_accuracy: 0.7743\n",
      "Epoch 50/100\n",
      "14832/14832 [==============================] - 37s 3ms/step - loss: 0.0073 - accuracy: 0.9984 - val_loss: 1.9871 - val_accuracy: 0.6561\n",
      "Epoch 51/100\n",
      "14832/14832 [==============================] - 37s 3ms/step - loss: 0.0165 - accuracy: 0.9951 - val_loss: 3.0885 - val_accuracy: 0.5666\n",
      "Epoch 52/100\n",
      "14832/14832 [==============================] - 37s 3ms/step - loss: 0.1035 - accuracy: 0.9686 - val_loss: 3.8450 - val_accuracy: 0.4186\n",
      "Epoch 53/100\n",
      "14832/14832 [==============================] - 37s 3ms/step - loss: 0.1497 - accuracy: 0.9533 - val_loss: 3.6429 - val_accuracy: 0.4987\n",
      "Epoch 54/100\n",
      "14832/14832 [==============================] - 37s 3ms/step - loss: 0.0823 - accuracy: 0.9748 - val_loss: 1.8214 - val_accuracy: 0.6443\n",
      "Epoch 55/100\n",
      "14832/14832 [==============================] - 37s 3ms/step - loss: 0.0472 - accuracy: 0.9860 - val_loss: 1.3803 - val_accuracy: 0.7144\n",
      "Epoch 56/100\n",
      "14832/14832 [==============================] - 37s 3ms/step - loss: 0.0310 - accuracy: 0.9900 - val_loss: 2.2120 - val_accuracy: 0.5941\n",
      "Epoch 57/100\n",
      "14832/14832 [==============================] - 37s 3ms/step - loss: 0.0252 - accuracy: 0.9933 - val_loss: 1.7335 - val_accuracy: 0.6810\n",
      "Epoch 58/100\n",
      "14832/14832 [==============================] - 37s 3ms/step - loss: 0.0153 - accuracy: 0.9958 - val_loss: 1.1676 - val_accuracy: 0.7662\n",
      "Epoch 59/100\n",
      "14832/14832 [==============================] - 37s 3ms/step - loss: 0.0059 - accuracy: 0.9983 - val_loss: 1.2953 - val_accuracy: 0.7487\n",
      "Epoch 60/100\n",
      "14832/14832 [==============================] - 37s 3ms/step - loss: 0.0115 - accuracy: 0.9970 - val_loss: 1.5409 - val_accuracy: 0.7203\n",
      "Epoch 61/100\n",
      "14832/14832 [==============================] - 37s 3ms/step - loss: 0.0080 - accuracy: 0.9983 - val_loss: 1.3010 - val_accuracy: 0.7611\n",
      "Epoch 62/100\n",
      "14832/14832 [==============================] - 37s 3ms/step - loss: 0.0119 - accuracy: 0.9966 - val_loss: 1.7827 - val_accuracy: 0.6872\n",
      "Epoch 63/100\n",
      "14832/14832 [==============================] - 37s 2ms/step - loss: 0.0236 - accuracy: 0.9925 - val_loss: 3.8789 - val_accuracy: 0.4760\n",
      "Epoch 64/100\n",
      "14832/14832 [==============================] - 37s 3ms/step - loss: 0.0964 - accuracy: 0.9719 - val_loss: 3.1886 - val_accuracy: 0.5027\n",
      "Epoch 65/100\n",
      "14832/14832 [==============================] - 37s 3ms/step - loss: 0.0945 - accuracy: 0.9692 - val_loss: 2.8507 - val_accuracy: 0.5933\n",
      "Epoch 66/100\n",
      "14832/14832 [==============================] - 37s 3ms/step - loss: 0.0498 - accuracy: 0.9847 - val_loss: 2.3764 - val_accuracy: 0.5941\n",
      "Epoch 67/100\n",
      "14832/14832 [==============================] - 37s 3ms/step - loss: 0.0413 - accuracy: 0.9883 - val_loss: 1.9530 - val_accuracy: 0.6383\n",
      "Epoch 68/100\n",
      "14832/14832 [==============================] - 37s 3ms/step - loss: 0.0282 - accuracy: 0.9918 - val_loss: 1.4695 - val_accuracy: 0.7233\n",
      "Epoch 69/100\n",
      "14832/14832 [==============================] - 37s 3ms/step - loss: 0.0280 - accuracy: 0.9918 - val_loss: 3.7915 - val_accuracy: 0.4995\n",
      "Epoch 70/100\n",
      "14832/14832 [==============================] - 37s 3ms/step - loss: 0.0186 - accuracy: 0.9942 - val_loss: 1.2640 - val_accuracy: 0.7546\n",
      "Epoch 71/100\n",
      "14832/14832 [==============================] - 37s 3ms/step - loss: 0.0161 - accuracy: 0.9953 - val_loss: 1.5459 - val_accuracy: 0.7241\n",
      "Epoch 72/100\n",
      "14832/14832 [==============================] - 37s 3ms/step - loss: 0.0093 - accuracy: 0.9969 - val_loss: 1.2894 - val_accuracy: 0.7484\n",
      "Epoch 73/100\n",
      "14832/14832 [==============================] - 37s 3ms/step - loss: 0.0119 - accuracy: 0.9961 - val_loss: 1.5877 - val_accuracy: 0.7104\n",
      "Epoch 74/100\n",
      "14832/14832 [==============================] - 37s 3ms/step - loss: 0.0283 - accuracy: 0.9914 - val_loss: 2.0471 - val_accuracy: 0.6300\n",
      "Epoch 75/100\n",
      "14832/14832 [==============================] - 37s 3ms/step - loss: 0.0443 - accuracy: 0.9856 - val_loss: 3.1631 - val_accuracy: 0.5326\n",
      "Epoch 76/100\n",
      "14832/14832 [==============================] - 37s 3ms/step - loss: 0.0512 - accuracy: 0.9843 - val_loss: 2.3574 - val_accuracy: 0.6160\n",
      "Epoch 77/100\n",
      "14832/14832 [==============================] - 37s 3ms/step - loss: 0.0523 - accuracy: 0.9840 - val_loss: 1.8509 - val_accuracy: 0.6702\n",
      "Epoch 78/100\n",
      "14832/14832 [==============================] - 37s 3ms/step - loss: 0.0511 - accuracy: 0.9846 - val_loss: 6.7166 - val_accuracy: 0.2257\n",
      "Epoch 79/100\n",
      "14832/14832 [==============================] - 37s 3ms/step - loss: 0.1031 - accuracy: 0.9686 - val_loss: 2.9617 - val_accuracy: 0.5485\n",
      "Epoch 80/100\n",
      "14832/14832 [==============================] - 37s 3ms/step - loss: 0.0359 - accuracy: 0.9896 - val_loss: 1.6150 - val_accuracy: 0.7055\n",
      "Epoch 81/100\n",
      "14832/14832 [==============================] - 37s 3ms/step - loss: 0.0261 - accuracy: 0.9922 - val_loss: 1.2617 - val_accuracy: 0.7562\n",
      "Epoch 82/100\n",
      "14832/14832 [==============================] - 37s 3ms/step - loss: 0.0061 - accuracy: 0.9984 - val_loss: 1.1201 - val_accuracy: 0.7791\n",
      "Epoch 83/100\n",
      "14832/14832 [==============================] - 37s 3ms/step - loss: 0.0021 - accuracy: 0.9993 - val_loss: 1.0234 - val_accuracy: 0.7969\n",
      "Epoch 84/100\n",
      "14832/14832 [==============================] - 37s 3ms/step - loss: 5.4737e-04 - accuracy: 0.9999 - val_loss: 1.0641 - val_accuracy: 0.7994\n",
      "Epoch 85/100\n",
      "14832/14832 [==============================] - 37s 2ms/step - loss: 4.8888e-04 - accuracy: 0.9999 - val_loss: 1.0790 - val_accuracy: 0.7956\n",
      "Epoch 86/100\n",
      "14832/14832 [==============================] - 37s 2ms/step - loss: 9.3539e-05 - accuracy: 1.0000 - val_loss: 0.9717 - val_accuracy: 0.8142\n",
      "Epoch 87/100\n",
      "14832/14832 [==============================] - 37s 3ms/step - loss: 6.6998e-05 - accuracy: 1.0000 - val_loss: 0.9535 - val_accuracy: 0.8185\n",
      "Epoch 88/100\n",
      "14832/14832 [==============================] - 37s 3ms/step - loss: 8.2682e-05 - accuracy: 1.0000 - val_loss: 0.9669 - val_accuracy: 0.8161\n",
      "Epoch 89/100\n",
      "14832/14832 [==============================] - 37s 2ms/step - loss: 0.0265 - accuracy: 0.9923 - val_loss: 3.2683 - val_accuracy: 0.5591\n",
      "Epoch 90/100\n",
      "14832/14832 [==============================] - 37s 2ms/step - loss: 0.0501 - accuracy: 0.9835 - val_loss: 2.5407 - val_accuracy: 0.5806\n",
      "Epoch 91/100\n",
      "14832/14832 [==============================] - 37s 2ms/step - loss: 0.0757 - accuracy: 0.9776 - val_loss: 2.4188 - val_accuracy: 0.6297\n",
      "Epoch 92/100\n",
      "14832/14832 [==============================] - 37s 2ms/step - loss: 0.0457 - accuracy: 0.9855 - val_loss: 2.4326 - val_accuracy: 0.5992\n",
      "Epoch 93/100\n",
      "14832/14832 [==============================] - 37s 2ms/step - loss: 0.0209 - accuracy: 0.9927 - val_loss: 1.5770 - val_accuracy: 0.7198\n",
      "Epoch 94/100\n",
      "14832/14832 [==============================] - 37s 2ms/step - loss: 0.0244 - accuracy: 0.9927 - val_loss: 6.8730 - val_accuracy: 0.3576\n",
      "Epoch 95/100\n",
      "14832/14832 [==============================] - 37s 2ms/step - loss: 0.0159 - accuracy: 0.9952 - val_loss: 1.5880 - val_accuracy: 0.7263\n",
      "Epoch 96/100\n",
      "14832/14832 [==============================] - 37s 2ms/step - loss: 0.0100 - accuracy: 0.9971 - val_loss: 1.2838 - val_accuracy: 0.7691\n",
      "Epoch 97/100\n",
      "14832/14832 [==============================] - 37s 3ms/step - loss: 0.0053 - accuracy: 0.9983 - val_loss: 1.5029 - val_accuracy: 0.7484\n",
      "Epoch 98/100\n",
      "14832/14832 [==============================] - 37s 2ms/step - loss: 0.0111 - accuracy: 0.9970 - val_loss: 1.2999 - val_accuracy: 0.7551\n",
      "Epoch 99/100\n",
      "14832/14832 [==============================] - 37s 2ms/step - loss: 0.0056 - accuracy: 0.9982 - val_loss: 1.2966 - val_accuracy: 0.7608\n",
      "Epoch 100/100\n",
      "14832/14832 [==============================] - 37s 2ms/step - loss: 0.0179 - accuracy: 0.9945 - val_loss: 1.7574 - val_accuracy: 0.6934\n"
     ]
    },
    {
     "data": {
      "text/plain": [
       "<keras.callbacks.callbacks.History at 0x7fe295ea3400>"
      ]
     },
     "execution_count": 8,
     "metadata": {},
     "output_type": "execute_result"
    }
   ],
   "source": [
    "model.fit(train_X, train_y, validation_split=0.2, epochs = 100, batch_size=128)"
   ]
  },
  {
   "cell_type": "code",
   "execution_count": 9,
   "metadata": {},
   "outputs": [
    {
     "name": "stdout",
     "output_type": "stream",
     "text": [
      "dict_keys(['val_loss', 'val_accuracy', 'loss', 'accuracy'])\n"
     ]
    },
    {
     "data": {
      "text/plain": [
       "Text(0.5, 0, 'Epochs')"
      ]
     },
     "execution_count": 9,
     "metadata": {},
     "output_type": "execute_result"
    },
    {
     "data": {
      "image/png": "[encoded data removed]",
      "text/plain": [
       "<Figure size 432x288 with 1 Axes>"
      ]
     },
     "metadata": {
      "needs_background": "light"
     },
     "output_type": "display_data"
    }
   ],
   "source": [
    "import matplotlib.pyplot as plt \n",
    "print(model.history.history.keys())\n",
    "plt.figure(1)\n",
    "plt.plot(model.history.history['accuracy'])\n",
    "plt.plot(model.history.history['val_accuracy'])\n",
    "plt.legend(['training accuracy', 'validation accuracy'])\n",
    "plt.ylabel('Accuracy')\n",
    "plt.xlabel('Epochs')"
   ]
  }
 ],
 "metadata": {
  "kernelspec": {
   "display_name": "Python 3",
   "language": "python",
   "name": "python3"
  },
  "language_info": {
   "codemirror_mode": {
    "name": "ipython",
    "version": 3
   },
   "file_extension": ".py",
   "mimetype": "text/x-python",
   "name": "python",
   "nbconvert_exporter": "python",
   "pygments_lexer": "ipython3",
   "version": "3.6.6"
  }
 },
 "nbformat": 4,
 "nbformat_minor": 1
}
